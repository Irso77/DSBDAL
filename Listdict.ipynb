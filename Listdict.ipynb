{
 "cells": [
  {
   "cell_type": "code",
   "execution_count": 7,
   "id": "95ec44b8-1021-494e-b2c9-743624657cee",
   "metadata": {},
   "outputs": [],
   "source": [
    "import pandas as pd"
   ]
  },
  {
   "cell_type": "code",
   "execution_count": 9,
   "id": "75964393-db58-4331-81fe-37842a11b539",
   "metadata": {},
   "outputs": [],
   "source": [
    "#data in list\n",
    "data = [\n",
    "    [1, 'Ramesh', 24],\n",
    "    [2, 'Suresh', 30],\n",
    "    [3, 'Mukesh', 22]\n",
    "]"
   ]
  },
  {
   "cell_type": "code",
   "execution_count": 11,
   "id": "64f93c0c-b888-4456-94e0-c02deb7dd59b",
   "metadata": {},
   "outputs": [],
   "source": [
    "# Column names\n",
    "columns = ['ID', 'Name', 'Age']"
   ]
  },
  {
   "cell_type": "code",
   "execution_count": 13,
   "id": "8b8ba59a-8b2a-462b-accd-b5a3b381e76b",
   "metadata": {},
   "outputs": [],
   "source": [
    "# Create a DataaFrame\n",
    "df = pd.DataFrame(data, columns=columns)"
   ]
  },
  {
   "cell_type": "code",
   "execution_count": 15,
   "id": "48582b7a-1340-41ed-9d69-1d32bd86bf60",
   "metadata": {},
   "outputs": [
    {
     "data": {
      "text/html": [
       "<div>\n",
       "<style scoped>\n",
       "    .dataframe tbody tr th:only-of-type {\n",
       "        vertical-align: middle;\n",
       "    }\n",
       "\n",
       "    .dataframe tbody tr th {\n",
       "        vertical-align: top;\n",
       "    }\n",
       "\n",
       "    .dataframe thead th {\n",
       "        text-align: right;\n",
       "    }\n",
       "</style>\n",
       "<table border=\"1\" class=\"dataframe\">\n",
       "  <thead>\n",
       "    <tr style=\"text-align: right;\">\n",
       "      <th></th>\n",
       "      <th>ID</th>\n",
       "      <th>Name</th>\n",
       "      <th>Age</th>\n",
       "    </tr>\n",
       "  </thead>\n",
       "  <tbody>\n",
       "    <tr>\n",
       "      <th>0</th>\n",
       "      <td>1</td>\n",
       "      <td>Ramesh</td>\n",
       "      <td>24</td>\n",
       "    </tr>\n",
       "    <tr>\n",
       "      <th>1</th>\n",
       "      <td>2</td>\n",
       "      <td>Suresh</td>\n",
       "      <td>30</td>\n",
       "    </tr>\n",
       "    <tr>\n",
       "      <th>2</th>\n",
       "      <td>3</td>\n",
       "      <td>Mukesh</td>\n",
       "      <td>22</td>\n",
       "    </tr>\n",
       "  </tbody>\n",
       "</table>\n",
       "</div>"
      ],
      "text/plain": [
       "   ID    Name  Age\n",
       "0   1  Ramesh   24\n",
       "1   2  Suresh   30\n",
       "2   3  Mukesh   22"
      ]
     },
     "execution_count": 15,
     "metadata": {},
     "output_type": "execute_result"
    }
   ],
   "source": [
    "df"
   ]
  },
  {
   "cell_type": "code",
   "execution_count": 17,
   "id": "e803972b-f6a3-4411-8a52-5ec5598df919",
   "metadata": {},
   "outputs": [],
   "source": [
    "# Save DataFrame to an Excel file\n",
    "excel_file = 'convert_data.xlsx'\n",
    "df.to_excel(excel_file, index=True)"
   ]
  },
  {
   "cell_type": "code",
   "execution_count": 18,
   "id": "f943b6b9-d045-4bd8-be0a-867e923061ae",
   "metadata": {},
   "outputs": [],
   "source": [
    "# Data as a dictionary\n",
    "data_1 = {\n",
    "    'Post No': [10, 21, 31],\n",
    "    'Name': ['Abhinav', 'Bassi', 'Samay'],\n",
    "    'Address': ['Gwalior', 'Nashik', 'Pune']\n",
    "}"
   ]
  },
  {
   "cell_type": "code",
   "execution_count": 19,
   "id": "82c46555-44aa-4dcf-86aa-ff9a0c6aedd1",
   "metadata": {},
   "outputs": [],
   "source": [
    "# Data frame of dictionary\n",
    "dt = pd.DataFrame(data_1)"
   ]
  },
  {
   "cell_type": "code",
   "execution_count": 23,
   "id": "293e7e64-596c-4bf5-8f91-42616fb14f89",
   "metadata": {},
   "outputs": [
    {
     "data": {
      "text/html": [
       "<div>\n",
       "<style scoped>\n",
       "    .dataframe tbody tr th:only-of-type {\n",
       "        vertical-align: middle;\n",
       "    }\n",
       "\n",
       "    .dataframe tbody tr th {\n",
       "        vertical-align: top;\n",
       "    }\n",
       "\n",
       "    .dataframe thead th {\n",
       "        text-align: right;\n",
       "    }\n",
       "</style>\n",
       "<table border=\"1\" class=\"dataframe\">\n",
       "  <thead>\n",
       "    <tr style=\"text-align: right;\">\n",
       "      <th></th>\n",
       "      <th>Post No</th>\n",
       "      <th>Name</th>\n",
       "      <th>Address</th>\n",
       "    </tr>\n",
       "  </thead>\n",
       "  <tbody>\n",
       "    <tr>\n",
       "      <th>0</th>\n",
       "      <td>10</td>\n",
       "      <td>Abhinav</td>\n",
       "      <td>Gwalior</td>\n",
       "    </tr>\n",
       "    <tr>\n",
       "      <th>1</th>\n",
       "      <td>21</td>\n",
       "      <td>Bassi</td>\n",
       "      <td>Nashik</td>\n",
       "    </tr>\n",
       "    <tr>\n",
       "      <th>2</th>\n",
       "      <td>31</td>\n",
       "      <td>Samay</td>\n",
       "      <td>Pune</td>\n",
       "    </tr>\n",
       "  </tbody>\n",
       "</table>\n",
       "</div>"
      ],
      "text/plain": [
       "   Post No     Name  Address\n",
       "0       10  Abhinav  Gwalior\n",
       "1       21    Bassi   Nashik\n",
       "2       31    Samay     Pune"
      ]
     },
     "execution_count": 23,
     "metadata": {},
     "output_type": "execute_result"
    }
   ],
   "source": [
    "dt"
   ]
  },
  {
   "cell_type": "code",
   "execution_count": 25,
   "id": "1267d13d-ec53-444a-ac59-3a33f9bad55e",
   "metadata": {},
   "outputs": [],
   "source": [
    "# Save DataFrame to an Excel file\n",
    "excel_file = 'convert_data1.xlsx'\n",
    "dt.to_excel(excel_file, index=True)"
   ]
  },
  {
   "cell_type": "code",
   "execution_count": null,
   "id": "ce1439fe-fc33-40dc-96ac-2b9d17c5fcc5",
   "metadata": {},
   "outputs": [],
   "source": []
  }
 ],
 "metadata": {
  "kernelspec": {
   "display_name": "Python [conda env:base] *",
   "language": "python",
   "name": "conda-base-py"
  },
  "language_info": {
   "codemirror_mode": {
    "name": "ipython",
    "version": 3
   },
   "file_extension": ".py",
   "mimetype": "text/x-python",
   "name": "python",
   "nbconvert_exporter": "python",
   "pygments_lexer": "ipython3",
   "version": "3.12.7"
  }
 },
 "nbformat": 4,
 "nbformat_minor": 5
}
