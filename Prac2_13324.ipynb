{
 "cells": [
  {
   "cell_type": "code",
   "execution_count": 6,
   "id": "1c2cf1b9-cda9-4238-9266-8f87f95427f4",
   "metadata": {},
   "outputs": [],
   "source": [
    "import pandas as pd"
   ]
  },
  {
   "cell_type": "code",
   "execution_count": 7,
   "id": "82604650-c755-4393-8e7f-66f32de83d52",
   "metadata": {},
   "outputs": [],
   "source": [
    "data = {\n",
    "    \"Location1\": [100, 50, 300, 200, 80],\n",
    "    \"Location2\": [200, 60, 400, 250, 90],\n",
    "    \"Location3\": [150, 40, 350, 220, 70],\n",
    "    \"Location4\": [300, 80, 500, 270, 100]\n",
    "}\n",
    "inventory = pd.DataFrame(data, index=[\"Product1\", \"Product2\", \"Product3\", \"Product4\", \"Product5\"])\n"
   ]
  },
  {
   "cell_type": "code",
   "execution_count": 8,
   "id": "d9a8645b-885b-4bae-86e7-c22e44a39227",
   "metadata": {},
   "outputs": [
    {
     "name": "stdout",
     "output_type": "stream",
     "text": [
      "          Location1  Location2  Location3  Location4\n",
      "Product1        100        200        150        300\n",
      "Product2         50         60         40         80\n"
     ]
    }
   ],
   "source": [
    "print(inventory.head(2))\n",
    "\n"
   ]
  },
  {
   "cell_type": "code",
   "execution_count": 9,
   "id": "3f808b1d-ef70-4e7f-bb4c-18b59d8f45d6",
   "metadata": {},
   "outputs": [
    {
     "name": "stdout",
     "output_type": "stream",
     "text": [
      "(5, 4)\n"
     ]
    }
   ],
   "source": [
    "print(inventory.shape)\n"
   ]
  },
  {
   "cell_type": "code",
   "execution_count": 10,
   "id": "694be466-cc5b-4359-b31e-0d921ba0bdc5",
   "metadata": {},
   "outputs": [
    {
     "name": "stdout",
     "output_type": "stream",
     "text": [
      "Columns: Index(['Location1', 'Location2', 'Location3', 'Location4'], dtype='object')\n",
      "Rows: Index(['Product1', 'Product2', 'Product3', 'Product4', 'Product5'], dtype='object')\n"
     ]
    }
   ],
   "source": [
    "print(\"Columns:\", inventory.columns)\n",
    "print(\"Rows:\", inventory.index)\n"
   ]
  },
  {
   "cell_type": "code",
   "execution_count": 11,
   "id": "c57557a8-a02b-4231-b79d-c0693019b072",
   "metadata": {},
   "outputs": [
    {
     "name": "stdout",
     "output_type": "stream",
     "text": [
      "Location1    int64\n",
      "Location2    int64\n",
      "Location3    int64\n",
      "Location4    int64\n",
      "dtype: object\n"
     ]
    }
   ],
   "source": [
    "print(inventory.dtypes)\n"
   ]
  },
  {
   "cell_type": "code",
   "execution_count": 12,
   "id": "e22b8460-f294-4694-8a9a-ba92559b4b9b",
   "metadata": {},
   "outputs": [
    {
     "name": "stdout",
     "output_type": "stream",
     "text": [
      "Location1    0\n",
      "Location2    0\n",
      "Location3    0\n",
      "Location4    0\n",
      "dtype: int64\n"
     ]
    }
   ],
   "source": [
    "print(inventory.isnull().sum())\n"
   ]
  },
  {
   "cell_type": "code",
   "execution_count": 13,
   "id": "f2417184-f368-42d4-85ac-d0e8c1fa8e46",
   "metadata": {},
   "outputs": [
    {
     "name": "stdout",
     "output_type": "stream",
     "text": [
      "Location1    300\n",
      "Location2    400\n",
      "Location3    350\n",
      "Location4    500\n",
      "Name: Product3, dtype: int64\n"
     ]
    }
   ],
   "source": [
    "print(inventory.loc[\"Product3\"])\n"
   ]
  },
  {
   "cell_type": "code",
   "execution_count": 14,
   "id": "1662fb00-82e9-457a-84e5-31d2cbcb2f2a",
   "metadata": {},
   "outputs": [
    {
     "name": "stdout",
     "output_type": "stream",
     "text": [
      "Product1    200\n",
      "Product2     60\n",
      "Product3    400\n",
      "Product4    250\n",
      "Product5     90\n",
      "Name: Location2, dtype: int64\n"
     ]
    }
   ],
   "source": [
    "print(inventory[\"Location2\"])\n"
   ]
  },
  {
   "cell_type": "code",
   "execution_count": 15,
   "id": "c3f3dd0d-5b9c-4bc5-9a19-a31298a829fd",
   "metadata": {},
   "outputs": [
    {
     "name": "stdout",
     "output_type": "stream",
     "text": [
      "          Location1  Location3\n",
      "Product1        100        150\n",
      "Product4        200        220\n"
     ]
    }
   ],
   "source": [
    "print(inventory.loc[[\"Product1\", \"Product4\"], [\"Location1\", \"Location3\"]])\n"
   ]
  },
  {
   "cell_type": "code",
   "execution_count": 16,
   "id": "c6770d45-0729-4dcd-af6d-955eb63341e3",
   "metadata": {},
   "outputs": [
    {
     "name": "stdout",
     "output_type": "stream",
     "text": [
      "          Location1  Location2\n",
      "Product1        100        200\n",
      "Product2         50         60\n",
      "Product3        300        400\n"
     ]
    }
   ],
   "source": [
    "print(inventory.iloc[:3, :2])\n"
   ]
  },
  {
   "cell_type": "code",
   "execution_count": 17,
   "id": "702d7d44-a674-4e1b-9338-450408966e6e",
   "metadata": {},
   "outputs": [
    {
     "name": "stdout",
     "output_type": "stream",
     "text": [
      "70\n"
     ]
    }
   ],
   "source": [
    "print(inventory.at[\"Product5\", \"Location3\"])\n"
   ]
  },
  {
   "cell_type": "code",
   "execution_count": 22,
   "id": "a6a2859e-0d92-4ade-b505-8ef37750de74",
   "metadata": {},
   "outputs": [
    {
     "name": "stdout",
     "output_type": "stream",
     "text": [
      "          Location1  Location2  Location3  Location4\n",
      "Product1        100        200        150        300\n",
      "Product2         50         60         40        120\n",
      "Product3        300        400        350        500\n",
      "Product4        200        250        220        270\n",
      "Product5         80         90         70        100\n",
      "Product6        150        180        140        200\n"
     ]
    }
   ],
   "source": [
    "inventory.at[\"Product2\", \"Location4\"] = 120\n",
    "\n",
    "print(inventory)\n"
   ]
  },
  {
   "cell_type": "code",
   "execution_count": 23,
   "id": "a92e8a05-27a3-44f4-8d01-841fe81deed2",
   "metadata": {},
   "outputs": [
    {
     "name": "stdout",
     "output_type": "stream",
     "text": [
      "          Location1  Location2  Location3  Location4\n",
      "Product1        100        200        150        300\n",
      "Product2         50         60         40        120\n",
      "Product3        300        400        350        500\n",
      "Product4        200        250        220        270\n",
      "Product5         80         90         70        100\n",
      "Product6        150        180        140        200\n"
     ]
    }
   ],
   "source": [
    "inventory.loc[\"Product6\"] = [150, 180, 140, 200]\n",
    "\n",
    "print(inventory)"
   ]
  },
  {
   "cell_type": "code",
   "execution_count": 24,
   "id": "37500060-45ba-4cbe-858d-9b80384650ec",
   "metadata": {},
   "outputs": [
    {
     "name": "stdout",
     "output_type": "stream",
     "text": [
      "          Location1  Location2  Location3  Location4\n",
      "Product1        110        210        160        310\n",
      "Product2         60         70         50        130\n",
      "Product3        310        410        360        510\n",
      "Product4        210        260        230        280\n",
      "Product5         90        100         80        110\n",
      "Product6        160        190        150        210\n"
     ]
    }
   ],
   "source": [
    "inventory += 10\n",
    "print(inventory)"
   ]
  },
  {
   "cell_type": "code",
   "execution_count": null,
   "id": "c67e632e-f390-4175-8742-125edcdc46c9",
   "metadata": {},
   "outputs": [],
   "source": []
  }
 ],
 "metadata": {
  "kernelspec": {
   "display_name": "Python 3 (ipykernel)",
   "language": "python",
   "name": "python3"
  },
  "language_info": {
   "codemirror_mode": {
    "name": "ipython",
    "version": 3
   },
   "file_extension": ".py",
   "mimetype": "text/x-python",
   "name": "python",
   "nbconvert_exporter": "python",
   "pygments_lexer": "ipython3",
   "version": "3.11.7"
  }
 },
 "nbformat": 4,
 "nbformat_minor": 5
}
