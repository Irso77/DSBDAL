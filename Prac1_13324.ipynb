{
 "cells": [
  {
   "cell_type": "code",
   "execution_count": 10,
   "id": "960db97d-37b2-477a-86cc-177666cc228b",
   "metadata": {},
   "outputs": [],
   "source": [
    "import numpy as np"
   ]
  },
  {
   "cell_type": "code",
   "execution_count": 11,
   "id": "dd710466-4cdf-4b69-9ebd-1cc82efcf364",
   "metadata": {},
   "outputs": [],
   "source": [
    "invent= np.array([\n",
    "    [100, 200, 150, 300],  # Product 1\n",
    "    [50, 60, 40, 80],      # Product 2\n",
    "    [300, 400, 350, 500],  # Product 3\n",
    "    [200, 250, 220, 270],  # Product 4\n",
    "    [80, 90, 70, 100]      # Product 5\n",
    "])"
   ]
  },
  {
   "cell_type": "code",
   "execution_count": 12,
   "id": "67b9136a-a943-4026-865f-fa99d4cb48fe",
   "metadata": {},
   "outputs": [
    {
     "data": {
      "text/plain": [
       "(5, 4)"
      ]
     },
     "execution_count": 12,
     "metadata": {},
     "output_type": "execute_result"
    }
   ],
   "source": [
    "invent.shape"
   ]
  },
  {
   "cell_type": "code",
   "execution_count": 13,
   "id": "e2cc543d-dfc6-426a-a7b3-d1731bb97ab8",
   "metadata": {},
   "outputs": [
    {
     "data": {
      "text/plain": [
       "dtype('int32')"
      ]
     },
     "execution_count": 13,
     "metadata": {},
     "output_type": "execute_result"
    }
   ],
   "source": [
    "invent.dtype"
   ]
  },
  {
   "cell_type": "code",
   "execution_count": 14,
   "id": "b897cfbf-5210-4aa8-ba55-32c6dd037ef8",
   "metadata": {},
   "outputs": [
    {
     "data": {
      "text/plain": [
       "20"
      ]
     },
     "execution_count": 14,
     "metadata": {},
     "output_type": "execute_result"
    }
   ],
   "source": [
    "invent.size"
   ]
  },
  {
   "cell_type": "code",
   "execution_count": 15,
   "id": "91d15ba7-d4d5-4f3f-bdb6-202cc634e099",
   "metadata": {},
   "outputs": [
    {
     "data": {
      "text/plain": [
       "4"
      ]
     },
     "execution_count": 15,
     "metadata": {},
     "output_type": "execute_result"
    }
   ],
   "source": [
    "invent.itemsize"
   ]
  },
  {
   "cell_type": "code",
   "execution_count": 16,
   "id": "04e750f9-38c4-4e8b-8b53-59fac100bf3f",
   "metadata": {},
   "outputs": [
    {
     "data": {
      "text/plain": [
       "80"
      ]
     },
     "execution_count": 16,
     "metadata": {},
     "output_type": "execute_result"
    }
   ],
   "source": [
    "invent.size*invent.itemsize"
   ]
  },
  {
   "cell_type": "code",
   "execution_count": 17,
   "id": "b49fb51b-a55f-449e-8bb4-07261f2ac36e",
   "metadata": {},
   "outputs": [],
   "source": [
    "invent=invent+20"
   ]
  },
  {
   "cell_type": "code",
   "execution_count": 18,
   "id": "c7df59f8-6076-449e-9762-84fe4760df11",
   "metadata": {},
   "outputs": [
    {
     "data": {
      "text/plain": [
       "array([[120, 220, 170, 320],\n",
       "       [ 70,  80,  60, 100],\n",
       "       [320, 420, 370, 520],\n",
       "       [220, 270, 240, 290],\n",
       "       [100, 110,  90, 120]])"
      ]
     },
     "execution_count": 18,
     "metadata": {},
     "output_type": "execute_result"
    }
   ],
   "source": [
    "invent"
   ]
  },
  {
   "cell_type": "code",
   "execution_count": 20,
   "id": "bd080570-940a-4ef5-8efa-8566675aae0c",
   "metadata": {},
   "outputs": [
    {
     "name": "stdout",
     "output_type": "stream",
     "text": [
      "[[120 220 170 320]\n",
      " [ 70  80  60 100]\n",
      " [300 400 350 500]\n",
      " [220 270 240 290]\n",
      " [100 110  90 120]]\n"
     ]
    }
   ],
   "source": [
    "invent[2]-=10\n",
    "\n",
    "print(invent)"
   ]
  },
  {
   "cell_type": "code",
   "execution_count": 21,
   "id": "ce99667b-3608-4839-a396-dfc1f39763a4",
   "metadata": {},
   "outputs": [
    {
     "name": "stdout",
     "output_type": "stream",
     "text": [
      "[[120 220 170 320]\n",
      " [140 160 120 200]\n",
      " [300 400 350 500]\n",
      " [220 270 240 290]\n",
      " [100 110  90 120]]\n"
     ]
    }
   ],
   "source": [
    "invent[1]*=2\n",
    "\n",
    "print(invent)"
   ]
  },
  {
   "cell_type": "code",
   "execution_count": 22,
   "id": "d2907cfa-4458-4654-99e1-7f4a5579d6bf",
   "metadata": {},
   "outputs": [],
   "source": [
    "max_cap=1000"
   ]
  },
  {
   "cell_type": "code",
   "execution_count": 23,
   "id": "d69edffd-60d0-49bd-9097-c0230fc6f859",
   "metadata": {},
   "outputs": [
    {
     "name": "stdout",
     "output_type": "stream",
     "text": [
      "[[12. 22. 17. 32.]\n",
      " [14. 16. 12. 20.]\n",
      " [30. 40. 35. 50.]\n",
      " [22. 27. 24. 29.]\n",
      " [10. 11.  9. 12.]]\n"
     ]
    }
   ],
   "source": [
    "per_stock=(invent/max_cap)*100\n",
    "\n",
    "print(per_stock)"
   ]
  },
  {
   "cell_type": "code",
   "execution_count": 24,
   "id": "1c2d3288-6ebe-4f9d-9bfb-4ac86455e656",
   "metadata": {},
   "outputs": [
    {
     "name": "stdout",
     "output_type": "stream",
     "text": [
      "[ 830  620 1550 1020  420]\n"
     ]
    }
   ],
   "source": [
    "total=np.sum(invent,axis=1)\n",
    "\n",
    "print(total)"
   ]
  },
  {
   "cell_type": "code",
   "execution_count": 25,
   "id": "331ee682-32e9-4b7f-8885-256fe6128b6e",
   "metadata": {},
   "outputs": [
    {
     "name": "stdout",
     "output_type": "stream",
     "text": [
      "[ 830  620 1550 1020  420]\n"
     ]
    }
   ],
   "source": [
    "total_loc=np.sum(invent,axis=1)\n",
    "\n",
    "print(total_loc)"
   ]
  },
  {
   "cell_type": "code",
   "execution_count": 27,
   "id": "e14c88c4-5cf2-4c72-8868-f1bf436114a0",
   "metadata": {},
   "outputs": [
    {
     "name": "stdout",
     "output_type": "stream",
     "text": [
      "[ 830  620 1550 1020  420]\n"
     ]
    }
   ],
   "source": [
    "total_proloc=np.sum(invent,axis=1)\n",
    "\n",
    "print(total_proloc)"
   ]
  },
  {
   "cell_type": "code",
   "execution_count": 28,
   "id": "d9bef498-718a-46c3-acee-3e4fef67dd39",
   "metadata": {},
   "outputs": [
    {
     "name": "stdout",
     "output_type": "stream",
     "text": [
      "2\n"
     ]
    }
   ],
   "source": [
    "max_stock=np.argmax(total_proloc)\n",
    "\n",
    "print(max_stock)"
   ]
  },
  {
   "cell_type": "code",
   "execution_count": 29,
   "id": "22438e63-d258-45e0-a2be-37bb8bcae8a9",
   "metadata": {},
   "outputs": [
    {
     "name": "stdout",
     "output_type": "stream",
     "text": [
      "[ 880 1160  970 1430]\n"
     ]
    }
   ],
   "source": [
    "total_pro=np.sum(invent,axis=0)\n",
    "\n",
    "print(total_pro)\n"
   ]
  },
  {
   "cell_type": "code",
   "execution_count": 30,
   "id": "23351997-6a9a-4b4d-ab81-cb128815be31",
   "metadata": {},
   "outputs": [
    {
     "name": "stdout",
     "output_type": "stream",
     "text": [
      "0\n"
     ]
    }
   ],
   "source": [
    "min_stock=np.argmin(total_pro)\n",
    "\n",
    "print(min_stock)"
   ]
  },
  {
   "cell_type": "code",
   "execution_count": 31,
   "id": "ed5e11ed-ad92-44ac-93b6-c52bd8406a2c",
   "metadata": {},
   "outputs": [
    {
     "name": "stdout",
     "output_type": "stream",
     "text": [
      "[207.5 155.  387.5 255.  105. ]\n"
     ]
    }
   ],
   "source": [
    "avg_pro = np.mean(invent, axis=1)\n",
    "\n",
    "print(avg_pro)"
   ]
  },
  {
   "cell_type": "code",
   "execution_count": 32,
   "id": "7bc39110-cdb3-4d39-871d-94fcddb78e00",
   "metadata": {},
   "outputs": [
    {
     "name": "stdout",
     "output_type": "stream",
     "text": [
      "[140 160 120 200]\n"
     ]
    }
   ],
   "source": [
    "pro_2=invent[1]\n",
    "\n",
    "print(pro_2)"
   ]
  },
  {
   "cell_type": "code",
   "execution_count": 33,
   "id": "2d32ea94-bf91-4a7f-ae52-199d25e40989",
   "metadata": {},
   "outputs": [
    {
     "name": "stdout",
     "output_type": "stream",
     "text": [
      "[170 120 350 240  90]\n"
     ]
    }
   ],
   "source": [
    "loc_3_stock = invent[:, 2]\n",
    "print(loc_3_stock)\n"
   ]
  },
  {
   "cell_type": "code",
   "execution_count": 34,
   "id": "e01e75e4-6225-4278-8472-2a544234803a",
   "metadata": {},
   "outputs": [
    {
     "name": "stdout",
     "output_type": "stream",
     "text": [
      "[[400 500]\n",
      " [270 290]]\n"
     ]
    }
   ],
   "source": [
    "select_loc2_stock = invent[2:4, [1, 3]]  \n",
    "print(select_loc2_stock)"
   ]
  },
  {
   "cell_type": "code",
   "execution_count": 35,
   "id": "ece4e41e-b80e-43a4-9041-9e5fba6c6da0",
   "metadata": {},
   "outputs": [
    {
     "name": "stdout",
     "output_type": "stream",
     "text": [
      "[[120 220]\n",
      " [140 160]\n",
      " [300 400]]\n"
     ]
    }
   ],
   "source": [
    "selected_stock = invent[:3, :2]\n",
    "print(selected_stock)"
   ]
  },
  {
   "cell_type": "code",
   "execution_count": 36,
   "id": "06b5f3cc-b650-434b-8a9f-d79c492e6746",
   "metadata": {},
   "outputs": [
    {
     "name": "stdout",
     "output_type": "stream",
     "text": [
      "[[240 290]\n",
      " [ 90 120]]\n"
     ]
    }
   ],
   "source": [
    "selected_last2_stock = invent[-2:, -2:] \n",
    "print(selected_last2_stock)"
   ]
  },
  {
   "cell_type": "code",
   "execution_count": 37,
   "id": "6b9b5574-d60b-48df-a73b-f38b4467011d",
   "metadata": {},
   "outputs": [
    {
     "name": "stdout",
     "output_type": "stream",
     "text": [
      "90\n"
     ]
    }
   ],
   "source": [
    "stock_pro_5_loc_3 = invent[4, 2]\n",
    "print(stock_pro_5_loc_3)"
   ]
  },
  {
   "cell_type": "code",
   "execution_count": 38,
   "id": "d49ae94d-7d97-4c88-a6b3-364332e9c9be",
   "metadata": {},
   "outputs": [
    {
     "name": "stdout",
     "output_type": "stream",
     "text": [
      "[120 240]\n"
     ]
    }
   ],
   "source": [
    "products = [0, 3]  \n",
    "locations = [0, 2] \n",
    "\n",
    "selected_stock_indx = invent[products, locations]\n",
    "print(selected_stock_indx)"
   ]
  },
  {
   "cell_type": "code",
   "execution_count": 39,
   "id": "5d95fed1-31db-4ad2-b00a-fa4f0794c0be",
   "metadata": {},
   "outputs": [
    {
     "name": "stdout",
     "output_type": "stream",
     "text": [
      "[[120 220 170 320]\n",
      " [140 160 120 100]\n",
      " [300 400 350 500]\n",
      " [220 270 240 290]\n",
      " [100 110  90 120]]\n"
     ]
    }
   ],
   "source": [
    "invent[1, 3] = 100\n",
    "print(invent)\n"
   ]
  },
  {
   "cell_type": "code",
   "execution_count": null,
   "id": "afb062cb-62f6-4118-8bb3-5c282f2e5819",
   "metadata": {},
   "outputs": [],
   "source": []
  }
 ],
 "metadata": {
  "kernelspec": {
   "display_name": "Python 3 (ipykernel)",
   "language": "python",
   "name": "python3"
  },
  "language_info": {
   "codemirror_mode": {
    "name": "ipython",
    "version": 3
   },
   "file_extension": ".py",
   "mimetype": "text/x-python",
   "name": "python",
   "nbconvert_exporter": "python",
   "pygments_lexer": "ipython3",
   "version": "3.11.7"
  }
 },
 "nbformat": 4,
 "nbformat_minor": 5
}
